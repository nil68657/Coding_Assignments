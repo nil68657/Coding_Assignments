{
 "cells": [
  {
   "cell_type": "code",
   "execution_count": 95,
   "source": [
    "\r\n",
    "import numpy as np\r\n",
    "import pandas as pd\r\n",
    "import seaborn as sns\r\n",
    "import matplotlib.pyplot as plt\r\n",
    "%matplotlib inline\r\n",
    "\r\n",
    "from sklearn import ensemble\r\n",
    "from sklearn.utils import shuffle\r\n",
    "from sklearn.metrics import r2_score, f1_score\r\n",
    "#import models\r\n",
    "\r\n",
    "from sklearn.linear_model import LinearRegression , LogisticRegression\r\n",
    "from sklearn.linear_model import Ridge ,Lasso\r\n",
    "from sklearn.preprocessing import LabelEncoder , OneHotEncoder\r\n",
    "from sklearn.preprocessing import MinMaxScaler , StandardScaler\r\n",
    "from sklearn.metrics import accuracy_score\r\n",
    "import pickle\r\n",
    "import xgboost as xgb\r\n",
    "\r\n",
    "from sklearn.utils import class_weight\r\n",
    "from sklearn.model_selection import KFold\r\n",
    "from sklearn.model_selection import cross_val_score\r\n",
    "from sklearn.metrics import mean_squared_error as MSE , median_absolute_error as MAE\r\n",
    "\r\n",
    "from keras.models import Sequential\r\n",
    "from keras.layers import LSTM,Dropout,Dense\r\n",
    "from sklearn.tree import DecisionTreeRegressor\r\n",
    "from sklearn.neighbors import KNeighborsRegressor\r\n",
    "from sklearn.ensemble import RandomForestClassifier\r\n",
    "from sklearn.ensemble import RandomForestRegressor\r\n",
    "from sklearn.feature_selection import RFE\r\n",
    "from sklearn.model_selection import RandomizedSearchCV, GridSearchCV\r\n",
    "from sklearn.model_selection import train_test_split\r\n",
    "from sklearn.model_selection import cross_val_score\r\n",
    "from sklearn.model_selection import KFold\r\n",
    "from sklearn.model_selection import StratifiedKFold \r\n",
    "\r\n",
    "%load_ext autoreload\r\n",
    "%autoreload 2\r\n"
   ],
   "outputs": [
    {
     "output_type": "stream",
     "name": "stdout",
     "text": [
      "The autoreload extension is already loaded. To reload it, use:\n",
      "  %reload_ext autoreload\n"
     ]
    }
   ],
   "metadata": {}
  },
  {
   "cell_type": "code",
   "execution_count": 3,
   "source": [
    "training = pd.read_csv('historical_data.csv')\r\n",
    "training['created_at'] = pd.to_datetime(training['created_at'])\r\n",
    "training['actual_delivery_time'] = pd.to_datetime(training['actual_delivery_time'])\r\n",
    "\r\n",
    "training['subtotal'] = training['subtotal'].astype(float)\r\n",
    "\r\n",
    "prediction_df = pd.read_csv('predict_data.csv')"
   ],
   "outputs": [],
   "metadata": {}
  },
  {
   "cell_type": "code",
   "execution_count": 4,
   "source": [
    "training.info()"
   ],
   "outputs": [
    {
     "output_type": "stream",
     "name": "stdout",
     "text": [
      "<class 'pandas.core.frame.DataFrame'>\n",
      "RangeIndex: 197428 entries, 0 to 197427\n",
      "Data columns (total 9 columns):\n",
      " #   Column                                        Non-Null Count   Dtype         \n",
      "---  ------                                        --------------   -----         \n",
      " 0   market_id                                     196441 non-null  float64       \n",
      " 1   created_at                                    197428 non-null  datetime64[ns]\n",
      " 2   actual_delivery_time                          197421 non-null  datetime64[ns]\n",
      " 3   store_id                                      197428 non-null  int64         \n",
      " 4   subtotal                                      197428 non-null  float64       \n",
      " 5   total_onshift_dashers                         181166 non-null  float64       \n",
      " 6   total_busy_dashers                            181166 non-null  float64       \n",
      " 7   total_outstanding_orders                      181166 non-null  float64       \n",
      " 8   estimated_store_to_consumer_driving_duration  196902 non-null  float64       \n",
      "dtypes: datetime64[ns](2), float64(6), int64(1)\n",
      "memory usage: 13.6 MB\n"
     ]
    }
   ],
   "metadata": {}
  },
  {
   "cell_type": "code",
   "execution_count": 5,
   "source": [
    "training['delivery_time'] = pd.to_datetime(training['actual_delivery_time'])-pd.to_datetime(training['created_at'])\r\n",
    "training = training[~training.actual_delivery_time.isnull()].copy() # Remove all rows with missing data for time of delivery\r\n",
    "training.market_id.fillna(training.market_id.mode()[0], inplace = True) # Imputing market_id with mode for Market_id\r\n",
    "#training['delivery_mins'] = training['delivery_time'].dt.total_seconds().div(60).astype(int)\r\n",
    "training['delivery_secs'] = training['delivery_time'].dt.total_seconds().astype(int)"
   ],
   "outputs": [],
   "metadata": {}
  },
  {
   "cell_type": "code",
   "execution_count": 6,
   "source": [
    "training.head(2)"
   ],
   "outputs": [
    {
     "output_type": "execute_result",
     "data": {
      "text/plain": [
       "   market_id          created_at actual_delivery_time  store_id  subtotal  \\\n",
       "0        1.0 2015-02-06 22:24:17  2015-02-06 23:27:16      1845    3441.0   \n",
       "1        2.0 2015-02-10 21:49:25  2015-02-10 22:56:29      5477    1900.0   \n",
       "\n",
       "   total_onshift_dashers  total_busy_dashers  total_outstanding_orders  \\\n",
       "0                   33.0                14.0                      21.0   \n",
       "1                    1.0                 2.0                       2.0   \n",
       "\n",
       "   estimated_store_to_consumer_driving_duration   delivery_time  delivery_secs  \n",
       "0                                         861.0 0 days 01:02:59           3779  \n",
       "1                                         690.0 0 days 01:07:04           4024  "
      ],
      "text/html": [
       "<div>\n",
       "<style scoped>\n",
       "    .dataframe tbody tr th:only-of-type {\n",
       "        vertical-align: middle;\n",
       "    }\n",
       "\n",
       "    .dataframe tbody tr th {\n",
       "        vertical-align: top;\n",
       "    }\n",
       "\n",
       "    .dataframe thead th {\n",
       "        text-align: right;\n",
       "    }\n",
       "</style>\n",
       "<table border=\"1\" class=\"dataframe\">\n",
       "  <thead>\n",
       "    <tr style=\"text-align: right;\">\n",
       "      <th></th>\n",
       "      <th>market_id</th>\n",
       "      <th>created_at</th>\n",
       "      <th>actual_delivery_time</th>\n",
       "      <th>store_id</th>\n",
       "      <th>subtotal</th>\n",
       "      <th>total_onshift_dashers</th>\n",
       "      <th>total_busy_dashers</th>\n",
       "      <th>total_outstanding_orders</th>\n",
       "      <th>estimated_store_to_consumer_driving_duration</th>\n",
       "      <th>delivery_time</th>\n",
       "      <th>delivery_secs</th>\n",
       "    </tr>\n",
       "  </thead>\n",
       "  <tbody>\n",
       "    <tr>\n",
       "      <th>0</th>\n",
       "      <td>1.0</td>\n",
       "      <td>2015-02-06 22:24:17</td>\n",
       "      <td>2015-02-06 23:27:16</td>\n",
       "      <td>1845</td>\n",
       "      <td>3441.0</td>\n",
       "      <td>33.0</td>\n",
       "      <td>14.0</td>\n",
       "      <td>21.0</td>\n",
       "      <td>861.0</td>\n",
       "      <td>0 days 01:02:59</td>\n",
       "      <td>3779</td>\n",
       "    </tr>\n",
       "    <tr>\n",
       "      <th>1</th>\n",
       "      <td>2.0</td>\n",
       "      <td>2015-02-10 21:49:25</td>\n",
       "      <td>2015-02-10 22:56:29</td>\n",
       "      <td>5477</td>\n",
       "      <td>1900.0</td>\n",
       "      <td>1.0</td>\n",
       "      <td>2.0</td>\n",
       "      <td>2.0</td>\n",
       "      <td>690.0</td>\n",
       "      <td>0 days 01:07:04</td>\n",
       "      <td>4024</td>\n",
       "    </tr>\n",
       "  </tbody>\n",
       "</table>\n",
       "</div>"
      ]
     },
     "metadata": {},
     "execution_count": 6
    }
   ],
   "metadata": {}
  },
  {
   "cell_type": "code",
   "execution_count": 7,
   "source": [
    "training.isnull().sum()"
   ],
   "outputs": [
    {
     "output_type": "execute_result",
     "data": {
      "text/plain": [
       "market_id                                           0\n",
       "created_at                                          0\n",
       "actual_delivery_time                                0\n",
       "store_id                                            0\n",
       "subtotal                                            0\n",
       "total_onshift_dashers                           16262\n",
       "total_busy_dashers                              16262\n",
       "total_outstanding_orders                        16262\n",
       "estimated_store_to_consumer_driving_duration      526\n",
       "delivery_time                                       0\n",
       "delivery_secs                                       0\n",
       "dtype: int64"
      ]
     },
     "metadata": {},
     "execution_count": 7
    }
   ],
   "metadata": {}
  },
  {
   "cell_type": "code",
   "execution_count": 8,
   "source": [
    "\"\"\" CHeck delivery time distribution\"\"\"\r\n",
    "\"\"\"\r\n",
    "training.delivery_secs.value_counts(normalize=True)\r\n",
    "#plot the bar graph of percentage delivery in seconds\r\n",
    "training.delivery_secs.value_counts(normalize=True).plot.bar()\r\n",
    "plt.show()\r\n",
    "\r\n",
    "#plot the scatter plot of delivery time and market_id variable in data\r\n",
    "plt.scatter(training.market_id,training.delivery_secs)\r\n",
    "plt.show()\r\n",
    "\"\"\""
   ],
   "outputs": [
    {
     "output_type": "execute_result",
     "data": {
      "text/plain": [
       "'\\ntraining.delivery_secs.value_counts(normalize=True)\\n#plot the bar graph of percentage delivery in seconds\\ntraining.delivery_secs.value_counts(normalize=True).plot.bar()\\nplt.show()\\n\\n#plot the scatter plot of delivery time and market_id variable in data\\nplt.scatter(training.market_id,training.delivery_secs)\\nplt.show()\\n'"
      ]
     },
     "metadata": {},
     "execution_count": 8
    }
   ],
   "metadata": {}
  },
  {
   "cell_type": "code",
   "execution_count": 9,
   "source": [
    "def mat2df(mat, columns=None, index=None, dtype=None):\r\n",
    "    \"\"\"return a dataframe from a np matrix \r\n",
    "    Args:\r\n",
    "        mat: np matrix \r\n",
    "    Return: \r\n",
    "    \"\"\"\r\n",
    "    return pd.DataFrame(mat, index=index, columns=columns, dtype=dtype)\r\n",
    "\r\n",
    "def dump(df, save_path, **kwargs):\r\n",
    "    \"\"\"save a dataframe to a file\r\n",
    "    :save_path: path to save\r\n",
    "    :returns: None\r\n",
    "    \"\"\"\r\n",
    "    ext = os.path.splitext(save_path)[1]\r\n",
    "    assert ext in {\".xls\", \".xlsx\", \".tsv\", \".csv\"}, \"File Type not Supported!\"\r\n",
    "\r\n",
    "    verbose = kwargs.get('verbose', True)\r\n",
    "    index = kwargs.get('index', False)\r\n",
    "    encoding = kwargs.get('encoding', \"utf-8\")\r\n",
    "\r\n",
    "    if ext in [\".xls\", \".xlsx\"]: # excel\r\n",
    "        df.to_excel(save_path, index=index)\r\n",
    "    elif ext == \".csv\":\r\n",
    "        df.to_csv(save_path, index=index, encoding=encoding)\r\n",
    "    elif ext == \".tsv\":\r\n",
    "        df.to_csv(save_path, index=index, sep=\"\\t\")\r\n",
    "    if verbose: print(\"Data Dumped to {}\".format(save_path))"
   ],
   "outputs": [],
   "metadata": {}
  },
  {
   "cell_type": "code",
   "execution_count": 10,
   "source": [
    "training.head(10)"
   ],
   "outputs": [
    {
     "output_type": "execute_result",
     "data": {
      "text/plain": [
       "   market_id          created_at actual_delivery_time  store_id  subtotal  \\\n",
       "0        1.0 2015-02-06 22:24:17  2015-02-06 23:27:16      1845    3441.0   \n",
       "1        2.0 2015-02-10 21:49:25  2015-02-10 22:56:29      5477    1900.0   \n",
       "2        3.0 2015-01-22 20:39:28  2015-01-22 21:09:09      5477    1900.0   \n",
       "3        3.0 2015-02-03 21:21:45  2015-02-03 22:13:00      5477    6900.0   \n",
       "4        3.0 2015-02-15 02:40:36  2015-02-15 03:20:26      5477    3900.0   \n",
       "5        3.0 2015-01-28 20:30:38  2015-01-28 21:08:58      5477    5000.0   \n",
       "6        3.0 2015-01-31 02:16:36  2015-01-31 02:43:00      5477    3900.0   \n",
       "7        3.0 2015-02-12 03:03:35  2015-02-12 03:36:20      5477    4850.0   \n",
       "8        2.0 2015-02-16 00:11:35  2015-02-16 00:38:01      5477    4771.0   \n",
       "9        3.0 2015-02-18 01:15:45  2015-02-18 02:08:57      5477    2100.0   \n",
       "\n",
       "   total_onshift_dashers  total_busy_dashers  total_outstanding_orders  \\\n",
       "0                   33.0                14.0                      21.0   \n",
       "1                    1.0                 2.0                       2.0   \n",
       "2                    1.0                 0.0                       0.0   \n",
       "3                    1.0                 1.0                       2.0   \n",
       "4                    6.0                 6.0                       9.0   \n",
       "5                    2.0                 2.0                       2.0   \n",
       "6                   10.0                 9.0                       9.0   \n",
       "7                    7.0                 8.0                       7.0   \n",
       "8                    8.0                 6.0                      18.0   \n",
       "9                    2.0                 2.0                       2.0   \n",
       "\n",
       "   estimated_store_to_consumer_driving_duration   delivery_time  delivery_secs  \n",
       "0                                         861.0 0 days 01:02:59           3779  \n",
       "1                                         690.0 0 days 01:07:04           4024  \n",
       "2                                         690.0 0 days 00:29:41           1781  \n",
       "3                                         289.0 0 days 00:51:15           3075  \n",
       "4                                         650.0 0 days 00:39:50           2390  \n",
       "5                                         338.0 0 days 00:38:20           2300  \n",
       "6                                         638.0 0 days 00:26:24           1584  \n",
       "7                                         626.0 0 days 00:32:45           1965  \n",
       "8                                         289.0 0 days 00:26:26           1586  \n",
       "9                                         715.0 0 days 00:53:12           3192  "
      ],
      "text/html": [
       "<div>\n",
       "<style scoped>\n",
       "    .dataframe tbody tr th:only-of-type {\n",
       "        vertical-align: middle;\n",
       "    }\n",
       "\n",
       "    .dataframe tbody tr th {\n",
       "        vertical-align: top;\n",
       "    }\n",
       "\n",
       "    .dataframe thead th {\n",
       "        text-align: right;\n",
       "    }\n",
       "</style>\n",
       "<table border=\"1\" class=\"dataframe\">\n",
       "  <thead>\n",
       "    <tr style=\"text-align: right;\">\n",
       "      <th></th>\n",
       "      <th>market_id</th>\n",
       "      <th>created_at</th>\n",
       "      <th>actual_delivery_time</th>\n",
       "      <th>store_id</th>\n",
       "      <th>subtotal</th>\n",
       "      <th>total_onshift_dashers</th>\n",
       "      <th>total_busy_dashers</th>\n",
       "      <th>total_outstanding_orders</th>\n",
       "      <th>estimated_store_to_consumer_driving_duration</th>\n",
       "      <th>delivery_time</th>\n",
       "      <th>delivery_secs</th>\n",
       "    </tr>\n",
       "  </thead>\n",
       "  <tbody>\n",
       "    <tr>\n",
       "      <th>0</th>\n",
       "      <td>1.0</td>\n",
       "      <td>2015-02-06 22:24:17</td>\n",
       "      <td>2015-02-06 23:27:16</td>\n",
       "      <td>1845</td>\n",
       "      <td>3441.0</td>\n",
       "      <td>33.0</td>\n",
       "      <td>14.0</td>\n",
       "      <td>21.0</td>\n",
       "      <td>861.0</td>\n",
       "      <td>0 days 01:02:59</td>\n",
       "      <td>3779</td>\n",
       "    </tr>\n",
       "    <tr>\n",
       "      <th>1</th>\n",
       "      <td>2.0</td>\n",
       "      <td>2015-02-10 21:49:25</td>\n",
       "      <td>2015-02-10 22:56:29</td>\n",
       "      <td>5477</td>\n",
       "      <td>1900.0</td>\n",
       "      <td>1.0</td>\n",
       "      <td>2.0</td>\n",
       "      <td>2.0</td>\n",
       "      <td>690.0</td>\n",
       "      <td>0 days 01:07:04</td>\n",
       "      <td>4024</td>\n",
       "    </tr>\n",
       "    <tr>\n",
       "      <th>2</th>\n",
       "      <td>3.0</td>\n",
       "      <td>2015-01-22 20:39:28</td>\n",
       "      <td>2015-01-22 21:09:09</td>\n",
       "      <td>5477</td>\n",
       "      <td>1900.0</td>\n",
       "      <td>1.0</td>\n",
       "      <td>0.0</td>\n",
       "      <td>0.0</td>\n",
       "      <td>690.0</td>\n",
       "      <td>0 days 00:29:41</td>\n",
       "      <td>1781</td>\n",
       "    </tr>\n",
       "    <tr>\n",
       "      <th>3</th>\n",
       "      <td>3.0</td>\n",
       "      <td>2015-02-03 21:21:45</td>\n",
       "      <td>2015-02-03 22:13:00</td>\n",
       "      <td>5477</td>\n",
       "      <td>6900.0</td>\n",
       "      <td>1.0</td>\n",
       "      <td>1.0</td>\n",
       "      <td>2.0</td>\n",
       "      <td>289.0</td>\n",
       "      <td>0 days 00:51:15</td>\n",
       "      <td>3075</td>\n",
       "    </tr>\n",
       "    <tr>\n",
       "      <th>4</th>\n",
       "      <td>3.0</td>\n",
       "      <td>2015-02-15 02:40:36</td>\n",
       "      <td>2015-02-15 03:20:26</td>\n",
       "      <td>5477</td>\n",
       "      <td>3900.0</td>\n",
       "      <td>6.0</td>\n",
       "      <td>6.0</td>\n",
       "      <td>9.0</td>\n",
       "      <td>650.0</td>\n",
       "      <td>0 days 00:39:50</td>\n",
       "      <td>2390</td>\n",
       "    </tr>\n",
       "    <tr>\n",
       "      <th>5</th>\n",
       "      <td>3.0</td>\n",
       "      <td>2015-01-28 20:30:38</td>\n",
       "      <td>2015-01-28 21:08:58</td>\n",
       "      <td>5477</td>\n",
       "      <td>5000.0</td>\n",
       "      <td>2.0</td>\n",
       "      <td>2.0</td>\n",
       "      <td>2.0</td>\n",
       "      <td>338.0</td>\n",
       "      <td>0 days 00:38:20</td>\n",
       "      <td>2300</td>\n",
       "    </tr>\n",
       "    <tr>\n",
       "      <th>6</th>\n",
       "      <td>3.0</td>\n",
       "      <td>2015-01-31 02:16:36</td>\n",
       "      <td>2015-01-31 02:43:00</td>\n",
       "      <td>5477</td>\n",
       "      <td>3900.0</td>\n",
       "      <td>10.0</td>\n",
       "      <td>9.0</td>\n",
       "      <td>9.0</td>\n",
       "      <td>638.0</td>\n",
       "      <td>0 days 00:26:24</td>\n",
       "      <td>1584</td>\n",
       "    </tr>\n",
       "    <tr>\n",
       "      <th>7</th>\n",
       "      <td>3.0</td>\n",
       "      <td>2015-02-12 03:03:35</td>\n",
       "      <td>2015-02-12 03:36:20</td>\n",
       "      <td>5477</td>\n",
       "      <td>4850.0</td>\n",
       "      <td>7.0</td>\n",
       "      <td>8.0</td>\n",
       "      <td>7.0</td>\n",
       "      <td>626.0</td>\n",
       "      <td>0 days 00:32:45</td>\n",
       "      <td>1965</td>\n",
       "    </tr>\n",
       "    <tr>\n",
       "      <th>8</th>\n",
       "      <td>2.0</td>\n",
       "      <td>2015-02-16 00:11:35</td>\n",
       "      <td>2015-02-16 00:38:01</td>\n",
       "      <td>5477</td>\n",
       "      <td>4771.0</td>\n",
       "      <td>8.0</td>\n",
       "      <td>6.0</td>\n",
       "      <td>18.0</td>\n",
       "      <td>289.0</td>\n",
       "      <td>0 days 00:26:26</td>\n",
       "      <td>1586</td>\n",
       "    </tr>\n",
       "    <tr>\n",
       "      <th>9</th>\n",
       "      <td>3.0</td>\n",
       "      <td>2015-02-18 01:15:45</td>\n",
       "      <td>2015-02-18 02:08:57</td>\n",
       "      <td>5477</td>\n",
       "      <td>2100.0</td>\n",
       "      <td>2.0</td>\n",
       "      <td>2.0</td>\n",
       "      <td>2.0</td>\n",
       "      <td>715.0</td>\n",
       "      <td>0 days 00:53:12</td>\n",
       "      <td>3192</td>\n",
       "    </tr>\n",
       "  </tbody>\n",
       "</table>\n",
       "</div>"
      ]
     },
     "metadata": {},
     "execution_count": 10
    }
   ],
   "metadata": {}
  },
  {
   "cell_type": "markdown",
   "source": [
    "# EDA and Feature Engineering Started..."
   ],
   "metadata": {}
  },
  {
   "cell_type": "code",
   "execution_count": 11,
   "source": [
    "\"\"\" \r\n",
    "    Creating flags for early/late delivery :\r\n",
    "    \"Very Early\" [-2]= arrived >10 mins early\r\n",
    "    \"Early\"[-1] = arrived 2-10 mins early\r\n",
    "    \"Late\"[1] = arrived 2-10 mins late\r\n",
    "    \"Very Late\"[2] = arrived >10 mins late\r\n",
    "    \"On-time\"[0] = On time with allowed buffer of +- 2 mins\r\n",
    "\"\"\"\r\n",
    "def late_logic(row):\r\n",
    "    if (row['estimated_store_to_consumer_driving_duration'] - row['delivery_secs'] < 600) and (row['estimated_store_to_consumer_driving_duration'] - row['delivery_secs'] > 120):\r\n",
    "        return -1\r\n",
    "    elif (row['estimated_store_to_consumer_driving_duration'] - row['delivery_secs'] >= 600) :\r\n",
    "        return -2\r\n",
    "    elif (row['delivery_secs'] - row['estimated_store_to_consumer_driving_duration'] < 600) and (row['delivery_secs'] - row['estimated_store_to_consumer_driving_duration']  > 120):\r\n",
    "        return  1\r\n",
    "    elif (row['delivery_secs'] - row['estimated_store_to_consumer_driving_duration'] >= 600) :\r\n",
    "        return 2\r\n",
    "    elif (row['delivery_secs'] - row['estimated_store_to_consumer_driving_duration'] <= 120) or row['estimated_store_to_consumer_driving_duration'] - row['delivery_secs'] <= 120 :\r\n",
    "        return 0\r\n",
    "    else:\r\n",
    "        return  0\r\n"
   ],
   "outputs": [],
   "metadata": {}
  },
  {
   "cell_type": "code",
   "execution_count": 12,
   "source": [
    "training['late_flag'] = training.apply(late_logic, axis=1)\r\n"
   ],
   "outputs": [],
   "metadata": {}
  },
  {
   "cell_type": "code",
   "execution_count": 13,
   "source": [
    "training['busy_or_not_busy'] = training['total_busy_dashers'] / training['total_onshift_dashers']\r\n",
    "prediction_df['busy_or_not_busy'] = prediction_df['total_busy_dashers'] / prediction_df['total_onshift_dashers']\r\n",
    "training.replace([np.inf, -np.inf], np.nan, inplace=True)\r\n",
    "prediction_df.replace([np.inf, -np.inf], np.nan, inplace=True)\r\n",
    "training.head()"
   ],
   "outputs": [
    {
     "output_type": "execute_result",
     "data": {
      "text/plain": [
       "   market_id          created_at actual_delivery_time  store_id  subtotal  \\\n",
       "0        1.0 2015-02-06 22:24:17  2015-02-06 23:27:16      1845    3441.0   \n",
       "1        2.0 2015-02-10 21:49:25  2015-02-10 22:56:29      5477    1900.0   \n",
       "2        3.0 2015-01-22 20:39:28  2015-01-22 21:09:09      5477    1900.0   \n",
       "3        3.0 2015-02-03 21:21:45  2015-02-03 22:13:00      5477    6900.0   \n",
       "4        3.0 2015-02-15 02:40:36  2015-02-15 03:20:26      5477    3900.0   \n",
       "\n",
       "   total_onshift_dashers  total_busy_dashers  total_outstanding_orders  \\\n",
       "0                   33.0                14.0                      21.0   \n",
       "1                    1.0                 2.0                       2.0   \n",
       "2                    1.0                 0.0                       0.0   \n",
       "3                    1.0                 1.0                       2.0   \n",
       "4                    6.0                 6.0                       9.0   \n",
       "\n",
       "   estimated_store_to_consumer_driving_duration   delivery_time  \\\n",
       "0                                         861.0 0 days 01:02:59   \n",
       "1                                         690.0 0 days 01:07:04   \n",
       "2                                         690.0 0 days 00:29:41   \n",
       "3                                         289.0 0 days 00:51:15   \n",
       "4                                         650.0 0 days 00:39:50   \n",
       "\n",
       "   delivery_secs  late_flag  busy_or_not_busy  \n",
       "0           3779          2          0.424242  \n",
       "1           4024          2          2.000000  \n",
       "2           1781          2          0.000000  \n",
       "3           3075          2          1.000000  \n",
       "4           2390          2          1.000000  "
      ],
      "text/html": [
       "<div>\n",
       "<style scoped>\n",
       "    .dataframe tbody tr th:only-of-type {\n",
       "        vertical-align: middle;\n",
       "    }\n",
       "\n",
       "    .dataframe tbody tr th {\n",
       "        vertical-align: top;\n",
       "    }\n",
       "\n",
       "    .dataframe thead th {\n",
       "        text-align: right;\n",
       "    }\n",
       "</style>\n",
       "<table border=\"1\" class=\"dataframe\">\n",
       "  <thead>\n",
       "    <tr style=\"text-align: right;\">\n",
       "      <th></th>\n",
       "      <th>market_id</th>\n",
       "      <th>created_at</th>\n",
       "      <th>actual_delivery_time</th>\n",
       "      <th>store_id</th>\n",
       "      <th>subtotal</th>\n",
       "      <th>total_onshift_dashers</th>\n",
       "      <th>total_busy_dashers</th>\n",
       "      <th>total_outstanding_orders</th>\n",
       "      <th>estimated_store_to_consumer_driving_duration</th>\n",
       "      <th>delivery_time</th>\n",
       "      <th>delivery_secs</th>\n",
       "      <th>late_flag</th>\n",
       "      <th>busy_or_not_busy</th>\n",
       "    </tr>\n",
       "  </thead>\n",
       "  <tbody>\n",
       "    <tr>\n",
       "      <th>0</th>\n",
       "      <td>1.0</td>\n",
       "      <td>2015-02-06 22:24:17</td>\n",
       "      <td>2015-02-06 23:27:16</td>\n",
       "      <td>1845</td>\n",
       "      <td>3441.0</td>\n",
       "      <td>33.0</td>\n",
       "      <td>14.0</td>\n",
       "      <td>21.0</td>\n",
       "      <td>861.0</td>\n",
       "      <td>0 days 01:02:59</td>\n",
       "      <td>3779</td>\n",
       "      <td>2</td>\n",
       "      <td>0.424242</td>\n",
       "    </tr>\n",
       "    <tr>\n",
       "      <th>1</th>\n",
       "      <td>2.0</td>\n",
       "      <td>2015-02-10 21:49:25</td>\n",
       "      <td>2015-02-10 22:56:29</td>\n",
       "      <td>5477</td>\n",
       "      <td>1900.0</td>\n",
       "      <td>1.0</td>\n",
       "      <td>2.0</td>\n",
       "      <td>2.0</td>\n",
       "      <td>690.0</td>\n",
       "      <td>0 days 01:07:04</td>\n",
       "      <td>4024</td>\n",
       "      <td>2</td>\n",
       "      <td>2.000000</td>\n",
       "    </tr>\n",
       "    <tr>\n",
       "      <th>2</th>\n",
       "      <td>3.0</td>\n",
       "      <td>2015-01-22 20:39:28</td>\n",
       "      <td>2015-01-22 21:09:09</td>\n",
       "      <td>5477</td>\n",
       "      <td>1900.0</td>\n",
       "      <td>1.0</td>\n",
       "      <td>0.0</td>\n",
       "      <td>0.0</td>\n",
       "      <td>690.0</td>\n",
       "      <td>0 days 00:29:41</td>\n",
       "      <td>1781</td>\n",
       "      <td>2</td>\n",
       "      <td>0.000000</td>\n",
       "    </tr>\n",
       "    <tr>\n",
       "      <th>3</th>\n",
       "      <td>3.0</td>\n",
       "      <td>2015-02-03 21:21:45</td>\n",
       "      <td>2015-02-03 22:13:00</td>\n",
       "      <td>5477</td>\n",
       "      <td>6900.0</td>\n",
       "      <td>1.0</td>\n",
       "      <td>1.0</td>\n",
       "      <td>2.0</td>\n",
       "      <td>289.0</td>\n",
       "      <td>0 days 00:51:15</td>\n",
       "      <td>3075</td>\n",
       "      <td>2</td>\n",
       "      <td>1.000000</td>\n",
       "    </tr>\n",
       "    <tr>\n",
       "      <th>4</th>\n",
       "      <td>3.0</td>\n",
       "      <td>2015-02-15 02:40:36</td>\n",
       "      <td>2015-02-15 03:20:26</td>\n",
       "      <td>5477</td>\n",
       "      <td>3900.0</td>\n",
       "      <td>6.0</td>\n",
       "      <td>6.0</td>\n",
       "      <td>9.0</td>\n",
       "      <td>650.0</td>\n",
       "      <td>0 days 00:39:50</td>\n",
       "      <td>2390</td>\n",
       "      <td>2</td>\n",
       "      <td>1.000000</td>\n",
       "    </tr>\n",
       "  </tbody>\n",
       "</table>\n",
       "</div>"
      ]
     },
     "metadata": {},
     "execution_count": 13
    }
   ],
   "metadata": {}
  },
  {
   "cell_type": "code",
   "execution_count": 77,
   "source": [
    "prediction_df.head()"
   ],
   "outputs": [
    {
     "output_type": "execute_result",
     "data": {
      "text/plain": [
       "   market_id           created_at  store_id  subtotal  total_onshift_dashers  \\\n",
       "0        3.0  2015-02-25 02:22:30      5477      7500                    4.0   \n",
       "1        3.0  2015-02-25 01:14:19      5477      7100                    4.0   \n",
       "2        4.0  2015-02-22 02:27:44      5477      4500                    9.0   \n",
       "3        3.0  2015-02-25 01:32:39      5477      1700                    3.0   \n",
       "4        1.0  2015-02-24 05:20:45      2841      3150                    4.0   \n",
       "\n",
       "   total_busy_dashers  total_outstanding_orders  \\\n",
       "0                 4.0                       4.0   \n",
       "1                 1.0                       1.0   \n",
       "2                 7.0                       6.0   \n",
       "3                 3.0                       3.0   \n",
       "4                 4.0                       4.0   \n",
       "\n",
       "   estimated_store_to_consumer_driving_duration  delivery_id  busy_or_not_busy  \n",
       "0                                         670.0       194096          1.000000  \n",
       "1                                         446.0       236895          0.250000  \n",
       "2                                         504.0       190868          0.777778  \n",
       "3                                         687.0       183076          1.000000  \n",
       "4                                         528.0       186200          1.000000  "
      ],
      "text/html": [
       "<div>\n",
       "<style scoped>\n",
       "    .dataframe tbody tr th:only-of-type {\n",
       "        vertical-align: middle;\n",
       "    }\n",
       "\n",
       "    .dataframe tbody tr th {\n",
       "        vertical-align: top;\n",
       "    }\n",
       "\n",
       "    .dataframe thead th {\n",
       "        text-align: right;\n",
       "    }\n",
       "</style>\n",
       "<table border=\"1\" class=\"dataframe\">\n",
       "  <thead>\n",
       "    <tr style=\"text-align: right;\">\n",
       "      <th></th>\n",
       "      <th>market_id</th>\n",
       "      <th>created_at</th>\n",
       "      <th>store_id</th>\n",
       "      <th>subtotal</th>\n",
       "      <th>total_onshift_dashers</th>\n",
       "      <th>total_busy_dashers</th>\n",
       "      <th>total_outstanding_orders</th>\n",
       "      <th>estimated_store_to_consumer_driving_duration</th>\n",
       "      <th>delivery_id</th>\n",
       "      <th>busy_or_not_busy</th>\n",
       "    </tr>\n",
       "  </thead>\n",
       "  <tbody>\n",
       "    <tr>\n",
       "      <th>0</th>\n",
       "      <td>3.0</td>\n",
       "      <td>2015-02-25 02:22:30</td>\n",
       "      <td>5477</td>\n",
       "      <td>7500</td>\n",
       "      <td>4.0</td>\n",
       "      <td>4.0</td>\n",
       "      <td>4.0</td>\n",
       "      <td>670.0</td>\n",
       "      <td>194096</td>\n",
       "      <td>1.000000</td>\n",
       "    </tr>\n",
       "    <tr>\n",
       "      <th>1</th>\n",
       "      <td>3.0</td>\n",
       "      <td>2015-02-25 01:14:19</td>\n",
       "      <td>5477</td>\n",
       "      <td>7100</td>\n",
       "      <td>4.0</td>\n",
       "      <td>1.0</td>\n",
       "      <td>1.0</td>\n",
       "      <td>446.0</td>\n",
       "      <td>236895</td>\n",
       "      <td>0.250000</td>\n",
       "    </tr>\n",
       "    <tr>\n",
       "      <th>2</th>\n",
       "      <td>4.0</td>\n",
       "      <td>2015-02-22 02:27:44</td>\n",
       "      <td>5477</td>\n",
       "      <td>4500</td>\n",
       "      <td>9.0</td>\n",
       "      <td>7.0</td>\n",
       "      <td>6.0</td>\n",
       "      <td>504.0</td>\n",
       "      <td>190868</td>\n",
       "      <td>0.777778</td>\n",
       "    </tr>\n",
       "    <tr>\n",
       "      <th>3</th>\n",
       "      <td>3.0</td>\n",
       "      <td>2015-02-25 01:32:39</td>\n",
       "      <td>5477</td>\n",
       "      <td>1700</td>\n",
       "      <td>3.0</td>\n",
       "      <td>3.0</td>\n",
       "      <td>3.0</td>\n",
       "      <td>687.0</td>\n",
       "      <td>183076</td>\n",
       "      <td>1.000000</td>\n",
       "    </tr>\n",
       "    <tr>\n",
       "      <th>4</th>\n",
       "      <td>1.0</td>\n",
       "      <td>2015-02-24 05:20:45</td>\n",
       "      <td>2841</td>\n",
       "      <td>3150</td>\n",
       "      <td>4.0</td>\n",
       "      <td>4.0</td>\n",
       "      <td>4.0</td>\n",
       "      <td>528.0</td>\n",
       "      <td>186200</td>\n",
       "      <td>1.000000</td>\n",
       "    </tr>\n",
       "  </tbody>\n",
       "</table>\n",
       "</div>"
      ]
     },
     "metadata": {},
     "execution_count": 77
    }
   ],
   "metadata": {}
  },
  {
   "cell_type": "markdown",
   "source": [
    "## Fill nan with default values"
   ],
   "metadata": {}
  },
  {
   "cell_type": "code",
   "execution_count": 14,
   "source": [
    "def df_mean(df, col):\r\n",
    "    val = df[col]\r\n",
    "    val = val[~np.isnan(val)]\r\n",
    "    return np.mean(val)\r\n",
    "\r\n",
    "def df_median(df, col):\r\n",
    "    val = df[col]\r\n",
    "    val = val[~np.isnan(val)]\r\n",
    "    return np.median(val)\r\n",
    "\r\n",
    "def df_mode(df, col):\r\n",
    "    from collections import Counter\r\n",
    "    c = Counter(df[col])\r\n",
    "    return c.most_common()[0][0]"
   ],
   "outputs": [],
   "metadata": {}
  },
  {
   "cell_type": "code",
   "execution_count": 15,
   "source": [
    "column_feature = [\r\n",
    " 'subtotal', \r\n",
    " 'total_outstanding_orders',\r\n",
    " 'estimated_store_to_consumer_driving_duration',\r\n",
    " 'busy_or_not_busy']"
   ],
   "outputs": [],
   "metadata": {}
  },
  {
   "cell_type": "code",
   "execution_count": 16,
   "source": [
    "\r\n",
    "\r\n",
    "default_fill_vals = {\r\n",
    "     \"subtotal\": df_median(training, \"subtotal\"),\r\n",
    "    \"busy_or_not_busy\": df_median(training, \"busy_or_not_busy\"),\r\n",
    "    \"total_outstanding_orders\": df_median(training, \"total_outstanding_orders\"),\r\n",
    "    \"estimated_store_to_consumer_driving_duration\": df_median(training, \"estimated_store_to_consumer_driving_duration\"),   \r\n",
    "}\r\n",
    "\r\n",
    "default_fill_vals\r\n"
   ],
   "outputs": [
    {
     "output_type": "execute_result",
     "data": {
      "text/plain": [
       "{'subtotal': 2200.0,\n",
       " 'busy_or_not_busy': 0.9622641509433962,\n",
       " 'total_outstanding_orders': 41.0,\n",
       " 'estimated_store_to_consumer_driving_duration': 544.0}"
      ]
     },
     "metadata": {},
     "execution_count": 16
    }
   ],
   "metadata": {}
  },
  {
   "cell_type": "code",
   "execution_count": 17,
   "source": [
    "def fill_df_with_default(df):\r\n",
    "    df.fillna(default_fill_vals, inplace=True)\r\n",
    "    \r\n",
    "\r\n",
    "fill_df_with_default(training)\r\n",
    "X = training[column_feature].to_numpy()\r\n",
    "y = training[\"delivery_secs\"]\r\n",
    "\r\n",
    "    "
   ],
   "outputs": [],
   "metadata": {}
  },
  {
   "cell_type": "code",
   "execution_count": 18,
   "source": [
    "training.isnull().sum()"
   ],
   "outputs": [
    {
     "output_type": "execute_result",
     "data": {
      "text/plain": [
       "market_id                                           0\n",
       "created_at                                          0\n",
       "actual_delivery_time                                0\n",
       "store_id                                            0\n",
       "subtotal                                            0\n",
       "total_onshift_dashers                           16262\n",
       "total_busy_dashers                              16262\n",
       "total_outstanding_orders                            0\n",
       "estimated_store_to_consumer_driving_duration        0\n",
       "delivery_time                                       0\n",
       "delivery_secs                                       0\n",
       "late_flag                                           0\n",
       "busy_or_not_busy                                    0\n",
       "dtype: int64"
      ]
     },
     "metadata": {},
     "execution_count": 18
    }
   ],
   "metadata": {}
  },
  {
   "cell_type": "markdown",
   "source": [
    "# EDA and Feature Engineering Complete.  Model Training Start :"
   ],
   "metadata": {}
  },
  {
   "cell_type": "markdown",
   "source": [
    "<h2> Linear Regression Implementation: <h2>"
   ],
   "metadata": {}
  },
  {
   "cell_type": "code",
   "execution_count": 20,
   "source": [
    "X_train, X_test, y_train, y_test = train_test_split(X, y, test_size=0.18, random_state=42)\r\n",
    "\r\n",
    "# Fit regression model\r\n",
    "clf = LinearRegression()\r\n",
    "clf.fit(X_train, y_train)\r\n",
    "y_pred = clf.predict(X_test)\r\n",
    "mse = MSE(y_test, y_pred)\r\n",
    "print(\"MSE: %.4f\" % mse)\r\n",
    "\r\n",
    "\r\n",
    "features_scored = []\r\n",
    "for feature, coef in zip(column_feature, clf.coef_):\r\n",
    "    features_scored.append((feature, coef))\r\n",
    "\r\n",
    "features_scored.sort(key = lambda x: -abs(x[1]))\r\n",
    "for feature, coef in features_scored:\r\n",
    "    print(\"{:50}: {:.2f}\".format(feature, coef))\r\n",
    "\r\n"
   ],
   "outputs": [
    {
     "output_type": "stream",
     "name": "stdout",
     "text": [
      "MSE: 5135105.2277\n",
      "busy_or_not_busy                                  : 177.24\n",
      "total_outstanding_orders                          : 2.86\n",
      "estimated_store_to_consumer_driving_duration      : 0.99\n",
      "subtotal                                          : 0.10\n"
     ]
    }
   ],
   "metadata": {}
  },
  {
   "cell_type": "code",
   "execution_count": 98,
   "source": [
    "import math\r\n",
    "print(math.sqrt(MAE(y_test, y_pred)))"
   ],
   "outputs": [
    {
     "output_type": "stream",
     "name": "stdout",
     "text": [
      "25.068029272542052\n"
     ]
    }
   ],
   "metadata": {}
  },
  {
   "cell_type": "code",
   "execution_count": 21,
   "source": [
    "\r\n",
    "# prediction_df.drop([\"market_id\", \"store_id\", \"created_at\"], inplace=True, axis=1)\r\n",
    "# print(prediction_df.shape)\r\n",
    "fill_df_with_default(prediction_df)\r\n",
    "X_test1 = prediction_df[column_feature].to_numpy()\r\n",
    "lr_predicted = clf.predict(X_test1)\r\n",
    "\r\n",
    "deliver_ids = prediction_df[\"delivery_id\"]\r\n",
    "rows = []\r\n",
    "for id, seconds in zip(deliver_ids, lr_predicted):\r\n",
    "    rows.append([id, int(seconds)])\r\n",
    "\r\n",
    "output_df = mat2df(np.array(rows), [\"delivery_id\", \"predicted_delivery_seconds\"])\r\n",
    "\r\n",
    "dump(output_df, save_path=\"predictions_liner_reg.csv\")"
   ],
   "outputs": [
    {
     "output_type": "stream",
     "name": "stdout",
     "text": [
      "Data Dumped to predictions_liner_reg.csv\n"
     ]
    }
   ],
   "metadata": {}
  },
  {
   "cell_type": "markdown",
   "source": [
    "<h2> Random Forest Implementation : <h2>"
   ],
   "metadata": {}
  },
  {
   "cell_type": "code",
   "execution_count": 22,
   "source": [
    "RFC=RandomForestRegressor(n_estimators=5,random_state=51,max_features = 0.30000000000000004)\r\n",
    "RFC.fit(X_train, y_train)\r\n"
   ],
   "outputs": [
    {
     "output_type": "execute_result",
     "data": {
      "text/plain": [
       "RandomForestRegressor(max_features=0.30000000000000004, n_estimators=5,\n",
       "                      random_state=51)"
      ]
     },
     "metadata": {},
     "execution_count": 22
    }
   ],
   "metadata": {}
  },
  {
   "cell_type": "code",
   "execution_count": 131,
   "source": [
    "\"\"\"\r\n",
    "Hyperparameter optimization for Random Forest\r\n",
    "random_search = RandomizedSearchCV(RandomForestRegressor(random_state=0),\r\n",
    "                           {\r\n",
    "                              'n_estimators':np.arange(5,100,5),\r\n",
    "                              'max_features':np.arange(0.1,1.0,0.05),\r\n",
    "                            },cv=5, scoring=\"r2\",verbose=1,n_jobs=-1, \r\n",
    "                             n_iter=50, random_state = 0\r\n",
    "                           )\r\n",
    "random_search.fit(X_train,y_train)\r\n",
    "\r\n",
    "Result:\r\n",
    "RandomizedSearchCV(cv=5, estimator=RandomForestRegressor(random_state=0),\r\n",
    "                   n_iter=50, n_jobs=-1,\r\n",
    "                   param_distributions={'max_features': array([0.1 , 0.15, 0.2 , 0.25, 0.3 , 0.35, 0.4 , 0.45, 0.5 , 0.55, 0.6 ,\r\n",
    "       0.65, 0.7 , 0.75, 0.8 , 0.85, 0.9 , 0.95]),\r\n",
    "                                        'n_estimators': array([ 5, 10, 15, 20, 25, 30, 35, 40, 45, 50, 55, 60, 65, 70, 75, 80, 85,\r\n",
    "       90, 95])},\r\n",
    "                   random_state=0, scoring='r2', verbose=1)\r\n",
    "\"\"\""
   ],
   "outputs": [
    {
     "output_type": "execute_result",
     "data": {
      "text/plain": [
       "'\\nHyperparameter optimization for Random Forest\\nrandom_search = RandomizedSearchCV(RandomForestRegressor(random_state=0),\\n                           {\\n                              \\'n_estimators\\':np.arange(5,100,5),\\n                              \\'max_features\\':np.arange(0.1,1.0,0.05),\\n                            },cv=5, scoring=\"r2\",verbose=1,n_jobs=-1, \\n                             n_iter=50, random_state = 0\\n                           )\\nrandom_search.fit(X_train,y_train)\\n\\nResult:\\nRandomizedSearchCV(cv=5, estimator=RandomForestRegressor(random_state=0),\\n                   n_iter=50, n_jobs=-1,\\n                   param_distributions={\\'max_features\\': array([0.1 , 0.15, 0.2 , 0.25, 0.3 , 0.35, 0.4 , 0.45, 0.5 , 0.55, 0.6 ,\\n       0.65, 0.7 , 0.75, 0.8 , 0.85, 0.9 , 0.95]),\\n                                        \\'n_estimators\\': array([ 5, 10, 15, 20, 25, 30, 35, 40, 45, 50, 55, 60, 65, 70, 75, 80, 85,\\n       90, 95])},\\n                   random_state=0, scoring=\\'r2\\', verbose=1)\\n'"
      ]
     },
     "metadata": {},
     "execution_count": 131
    }
   ],
   "metadata": {}
  },
  {
   "cell_type": "code",
   "execution_count": 129,
   "source": [
    "random_search = RandomizedSearchCV(RandomForestRegressor(random_state=0),\r\n",
    "                           {\r\n",
    "                              'n_estimators':np.arange(5,100,5),\r\n",
    "                              'max_features':np.arange(0.1,1.0,0.05),\r\n",
    "                            },cv=5, scoring=\"r2\",verbose=1,n_jobs=-1, \r\n",
    "                             n_iter=50, random_state = 0\r\n",
    "                           )\r\n",
    "random_search.fit(X_train,y_train)\r\n",
    "\r\n",
    "print('Best Parameters:', random_search.best_params_)"
   ],
   "outputs": [
    {
     "output_type": "stream",
     "name": "stdout",
     "text": [
      "Fitting 5 folds for each of 50 candidates, totalling 250 fits\n"
     ]
    },
    {
     "output_type": "stream",
     "name": "stderr",
     "text": [
      "C:\\Users\\nilan\\anaconda3\\envs\\myenv\\lib\\site-packages\\sklearn\\model_selection\\_search.py:925: UserWarning: One or more of the test scores are non-finite: [         nan          nan          nan          nan          nan\n",
      "          nan          nan          nan -55.10745192          nan\n",
      "          nan          nan          nan          nan          nan\n",
      "          nan          nan          nan          nan          nan\n",
      "          nan          nan          nan          nan          nan\n",
      "          nan          nan          nan          nan          nan\n",
      "          nan          nan          nan          nan          nan\n",
      "          nan          nan -55.10745192          nan          nan\n",
      "          nan          nan          nan          nan          nan\n",
      "  -0.07017561          nan          nan          nan          nan]\n",
      "  category=UserWarning\n"
     ]
    },
    {
     "output_type": "execute_result",
     "data": {
      "text/plain": [
       "RandomizedSearchCV(cv=5, estimator=RandomForestRegressor(random_state=0),\n",
       "                   n_iter=50, n_jobs=-1,\n",
       "                   param_distributions={'max_features': array([0.1 , 0.15, 0.2 , 0.25, 0.3 , 0.35, 0.4 , 0.45, 0.5 , 0.55, 0.6 ,\n",
       "       0.65, 0.7 , 0.75, 0.8 , 0.85, 0.9 , 0.95]),\n",
       "                                        'n_estimators': array([ 5, 10, 15, 20, 25, 30, 35, 40, 45, 50, 55, 60, 65, 70, 75, 80, 85,\n",
       "       90, 95])},\n",
       "                   random_state=0, scoring='r2', verbose=1)"
      ]
     },
     "metadata": {},
     "execution_count": 129
    }
   ],
   "metadata": {}
  },
  {
   "cell_type": "code",
   "execution_count": 23,
   "source": [
    "rf_predicted = RFC.predict(X_test1)\r\n",
    "rf_predicted"
   ],
   "outputs": [
    {
     "output_type": "execute_result",
     "data": {
      "text/plain": [
       "array([5382.2, 3446.2, 2654.4, ..., 2541. , 3594.6, 2661.2])"
      ]
     },
     "metadata": {},
     "execution_count": 23
    }
   ],
   "metadata": {}
  },
  {
   "cell_type": "code",
   "execution_count": 24,
   "source": [
    "deliver_ids = prediction_df[\"delivery_id\"]\r\n",
    "rows = []\r\n",
    "for id, seconds in zip(deliver_ids, rf_predicted):\r\n",
    "    rows.append([id, float(seconds)])\r\n",
    "\r\n",
    "output_df = mat2df(np.array(rows), [\"delivery_id\", \"predicted_delivery_seconds\"])\r\n",
    "\r\n",
    "dump(output_df, save_path=\"predictions_random_forest.csv\")"
   ],
   "outputs": [
    {
     "output_type": "stream",
     "name": "stdout",
     "text": [
      "Data Dumped to predictions_random_forest.csv\n"
     ]
    }
   ],
   "metadata": {}
  },
  {
   "cell_type": "code",
   "execution_count": 100,
   "source": [
    "y_pred = RFC.predict(X_test)"
   ],
   "outputs": [],
   "metadata": {}
  },
  {
   "cell_type": "code",
   "execution_count": 102,
   "source": [
    "\r\n",
    "print('Mean Absolute Error (MAE):', MAE(y_test, y_pred))\r\n",
    "print('Mean Squared Error (MSE):', MSE(y_test, y_pred))\r\n",
    "print('Root Mean Squared Error (RMSE):', np.sqrt(MSE(y_test, y_pred)))\r\n",
    "mape = np.mean(np.abs((y_test - y_pred) / np.abs(y_test)))\r\n",
    "print('Mean Absolute Percentage Error (MAPE):', round(mape * 100, 2))\r\n",
    "print('Accuracy:', round(100*(1 - mape), 2))"
   ],
   "outputs": [
    {
     "output_type": "stream",
     "name": "stdout",
     "text": [
      "Mean Absolute Error (MAE): 631.0\n",
      "Mean Squared Error (MSE): 87326046.801523\n",
      "Root Mean Squared Error (RMSE): 9344.840651478387\n",
      "Mean Absolute Percentage Error (MAPE): 32.54\n",
      "Accuracy: 67.46\n"
     ]
    }
   ],
   "metadata": {}
  },
  {
   "cell_type": "markdown",
   "source": [
    "## XGBoost Implementation :"
   ],
   "metadata": {}
  },
  {
   "cell_type": "code",
   "execution_count": 103,
   "source": [
    "\r\n",
    "import xgboost as xgb\r\n",
    "\r\n",
    "\"\"\"\r\n",
    "Hyperparameter tuned model parameter :\r\n",
    "RandomizedSearchCV(cv=<generator object _BaseKFold.split at 0x00000236C6374C48>,\r\n",
    "            estimator=XGBRegressor(base_score=0.5, booster='gbtree',\r\n",
    "                                    colsample_bylevel=1,\r\n",
    "                                    colsample_bynode=1,\r\n",
    "                                    colsample_bytree=1, gamma=0,\r\n",
    "                                    gpu_id=-1, importance_type='gain',\r\n",
    "                                    interaction_constraints='',\r\n",
    "                                    learning_rate=0.300000012,\r\n",
    "                                    max_delta_step=0, max_depth=6,\r\n",
    "                                    min_child_weight=1, missing=nan,\r\n",
    "                                    monoton...\r\n",
    "                                    objective='reg:linear',\r\n",
    "                                    random_state=0, reg_alpha=0,\r\n",
    "                                    reg_lambda=1, scale_pos_weight=1,\r\n",
    "                                    subsample=1, tree_method='exact',\r\n",
    "                                    validate_parameters=1,\r\n",
    "                                    verbosity=None),\r\n",
    "            n_iter=5, n_jobs=4,\r\n",
    "            param_distributions={'colsample_bytree': [0.6, 0.8, 1.0],\r\n",
    "                                    'gamma': [0.5, 1, 1.5, 2, 5],\r\n",
    "                                    'max_depth': [3, 4, 5],\r\n",
    "                                    'min_child_weight': [1, 5, 10],\r\n",
    "                                    'subsample': [0.6, 0.8, 1.0]},\r\n",
    "            random_state=1001, verbose=3)\r\n",
    "\"\"\"\r\n",
    "xgbr = xgb.XGBRegressor(base_score=0.5, booster='gbtree',\r\n",
    "                                        colsample_bylevel=1,\r\n",
    "                                        colsample_bynode=1,\r\n",
    "                                        colsample_bytree=1, gamma=0,\r\n",
    "                                        gpu_id=-1, importance_type='gain',\r\n",
    "                                        interaction_constraints='',\r\n",
    "                                        learning_rate=0.300000012,\r\n",
    "                                        max_delta_step=0, max_depth=6,\r\n",
    "                                        min_child_weight=1,objective='reg:linear',\r\n",
    "                                        random_state=0, reg_alpha=0,\r\n",
    "                                        reg_lambda=1,validate_parameters=1,\r\n",
    "                                        verbosity=None)\r\n",
    "\r\n",
    "xgbr.fit(X_train, y_train, verbose=False)\r\n",
    "\r\n",
    "xg_pred = xgbr.predict(X_test)\r\n",
    "\r\n",
    "rmse = np.sqrt(MSE(y_test, xg_pred))\r\n",
    "print(\"RMSE : % f\" %(rmse))\r\n",
    "print('Mean Absolute Error (MAE):', MAE(y_test, xg_pred))\r\n",
    "print('Mean Squared Error (MSE):', MSE(y_test, xg_pred))\r\n",
    "print('Root Mean Squared Error (RMSE):', np.sqrt(MSE(y_test, xg_pred)))\r\n",
    "mape = np.mean(np.abs((y_test - xg_pred) / np.abs(y_test)))\r\n",
    "print('Mean Absolute Percentage Error (MAPE):', round(mape * 100, 2))\r\n",
    "print('Accuracy:', round(100*(1 - mape), 2))\r\n"
   ],
   "outputs": [
    {
     "output_type": "stream",
     "name": "stdout",
     "text": [
      "[20:30:42] WARNING: C:/Users/Administrator/workspace/xgboost-win64_release_1.3.0/src/objective/regression_obj.cu:170: reg:linear is now deprecated in favor of reg:squarederror.\n",
      "RMSE :  2369.799209\n",
      "Mean Absolute Error (MAE): 578.6549072265625\n",
      "Mean Squared Error (MSE): 5615948.291214066\n",
      "Root Mean Squared Error (RMSE): 2369.7992090500125\n",
      "Mean Absolute Percentage Error (MAPE): 28.03\n",
      "Accuracy: 71.97\n"
     ]
    }
   ],
   "metadata": {}
  },
  {
   "cell_type": "code",
   "execution_count": 122,
   "source": [
    "    \"\"\"Hyper parameter optimization for XGBoost\r\n",
    "    \"\"\"\r\n",
    "    \r\n",
    "    params = {\r\n",
    "        'min_child_weight': [1, 5, 10],\r\n",
    "        'gamma': [0.5, 1, 1.5, 2, 5],\r\n",
    "        'subsample': [0.6, 0.8, 1.0],\r\n",
    "        'colsample_bytree': [0.6, 0.8, 1.0],\r\n",
    "        'max_depth': [3, 4, 5]\r\n",
    "        }\r\n",
    "    \r\n",
    "folds = 3\r\n",
    "param_comb = 5\r\n",
    "\r\n",
    "skf = StratifiedKFold(n_splits=folds, shuffle = True, random_state = 1001)\r\n",
    "random_search = RandomizedSearchCV(xgbr, param_distributions=params, n_iter=param_comb, n_jobs=4, cv=skf.split(X_train, y_train), verbose=3, random_state=1001 )\r\n",
    "\r\n",
    "random_search.fit(X_train, y_train)"
   ],
   "outputs": [
    {
     "output_type": "stream",
     "name": "stderr",
     "text": [
      "C:\\Users\\nilan\\anaconda3\\envs\\myenv\\lib\\site-packages\\sklearn\\model_selection\\_split.py:668: UserWarning: The least populated class in y has only 1 members, which is less than n_splits=3.\n",
      "  % (min_groups, self.n_splits)), UserWarning)\n"
     ]
    },
    {
     "output_type": "stream",
     "name": "stdout",
     "text": [
      "Fitting 3 folds for each of 5 candidates, totalling 15 fits\n",
      "[23:06:24] WARNING: C:/Users/Administrator/workspace/xgboost-win64_release_1.3.0/src/objective/regression_obj.cu:170: reg:linear is now deprecated in favor of reg:squarederror.\n"
     ]
    },
    {
     "output_type": "execute_result",
     "data": {
      "text/plain": [
       "RandomizedSearchCV(cv=<generator object _BaseKFold.split at 0x00000236C6374C48>,\n",
       "                   estimator=XGBRegressor(base_score=0.5, booster='gbtree',\n",
       "                                          colsample_bylevel=1,\n",
       "                                          colsample_bynode=1,\n",
       "                                          colsample_bytree=1, gamma=0,\n",
       "                                          gpu_id=-1, importance_type='gain',\n",
       "                                          interaction_constraints='',\n",
       "                                          learning_rate=0.300000012,\n",
       "                                          max_delta_step=0, max_depth=6,\n",
       "                                          min_child_weight=1, missing=nan,\n",
       "                                          monoton...\n",
       "                                          objective='reg:linear',\n",
       "                                          random_state=0, reg_alpha=0,\n",
       "                                          reg_lambda=1, scale_pos_weight=1,\n",
       "                                          subsample=1, tree_method='exact',\n",
       "                                          validate_parameters=1,\n",
       "                                          verbosity=None),\n",
       "                   n_iter=5, n_jobs=4,\n",
       "                   param_distributions={'colsample_bytree': [0.6, 0.8, 1.0],\n",
       "                                        'gamma': [0.5, 1, 1.5, 2, 5],\n",
       "                                        'max_depth': [3, 4, 5],\n",
       "                                        'min_child_weight': [1, 5, 10],\n",
       "                                        'subsample': [0.6, 0.8, 1.0]},\n",
       "                   random_state=1001, verbose=3)"
      ]
     },
     "metadata": {},
     "execution_count": 122
    }
   ],
   "metadata": {}
  },
  {
   "cell_type": "code",
   "execution_count": 26,
   "source": [
    "\"\"\"\r\n",
    "Predicting delivery seconds\r\n",
    "\"\"\"\r\n",
    "xg_predicted = xgbr.predict(X_test1)\r\n",
    "xg_predicted"
   ],
   "outputs": [
    {
     "output_type": "execute_result",
     "data": {
      "text/plain": [
       "array([3467.1626, 2858.6775, 2569.6448, ..., 2885.685 , 2929.7886,\n",
       "       2182.7688], dtype=float32)"
      ]
     },
     "metadata": {},
     "execution_count": 26
    }
   ],
   "metadata": {}
  },
  {
   "cell_type": "code",
   "execution_count": 27,
   "source": [
    "deliver_ids = prediction_df[\"delivery_id\"]\r\n",
    "rows = []\r\n",
    "for id, seconds in zip(deliver_ids, xg_predicted):\r\n",
    "    rows.append([id, float(seconds)])\r\n",
    "\r\n",
    "output_df = mat2df(np.array(rows), [\"delivery_id\", \"predicted_delivery_seconds\"])\r\n",
    "\r\n",
    "dump(output_df, save_path=\"predictions_xgb.csv\")"
   ],
   "outputs": [
    {
     "output_type": "stream",
     "name": "stdout",
     "text": [
      "Data Dumped to predictions_xgb.csv\n"
     ]
    }
   ],
   "metadata": {}
  },
  {
   "cell_type": "code",
   "execution_count": 28,
   "source": [
    "prediction_df.columns"
   ],
   "outputs": [
    {
     "output_type": "execute_result",
     "data": {
      "text/plain": [
       "Index(['market_id', 'created_at', 'store_id', 'subtotal',\n",
       "       'total_onshift_dashers', 'total_busy_dashers',\n",
       "       'total_outstanding_orders',\n",
       "       'estimated_store_to_consumer_driving_duration', 'delivery_id',\n",
       "       'busy_or_not_busy'],\n",
       "      dtype='object')"
      ]
     },
     "metadata": {},
     "execution_count": 28
    }
   ],
   "metadata": {}
  },
  {
   "cell_type": "code",
   "execution_count": 43,
   "source": [
    "    \"\"\"\r\n",
    "    Creating a final dataset to perform analsis of the distrbution of delivery lateness across stores and market \r\n",
    "    \"\"\"\r\n",
    "    \r\n",
    "new_df = prediction_df[['store_id', 'market_id','delivery_id','subtotal','busy_or_not_busy', 'estimated_store_to_consumer_driving_duration']]\r\n",
    "new_df['LR_prediction'] = lr_predicted\r\n",
    "new_df['RF_prediction'] = rf_predicted\r\n",
    "new_df['XGboost_prediction'] = xg_predicted\r\n",
    "new_df['delivery_diff_w_LR_pred'] = new_df['LR_prediction'] - new_df['estimated_store_to_consumer_driving_duration']\r\n",
    "new_df['delivery_diff_w_RF_pred'] = new_df['RF_prediction'] - new_df['estimated_store_to_consumer_driving_duration']\r\n",
    "new_df['delivery_diff_w_XGB_pred'] = new_df['XGboost_prediction'] - new_df['estimated_store_to_consumer_driving_duration']\r\n",
    "new_df['avg_variance'] = np.abs(new_df.loc[: , \"delivery_diff_w_LR_pred\":\"delivery_diff_w_XGB_pred\"].mean(axis=1))\r\n",
    "dump(new_df, save_path=\"predictions_combined.csv\")"
   ],
   "outputs": [
    {
     "output_type": "stream",
     "name": "stderr",
     "text": [
      "C:\\Users\\nilan\\anaconda3\\envs\\myenv\\lib\\site-packages\\pandas\\core\\frame.py:3607: SettingWithCopyWarning: \n",
      "A value is trying to be set on a copy of a slice from a DataFrame.\n",
      "Try using .loc[row_indexer,col_indexer] = value instead\n",
      "\n",
      "See the caveats in the documentation: https://pandas.pydata.org/pandas-docs/stable/user_guide/indexing.html#returning-a-view-versus-a-copy\n",
      "  self._set_item(key, value)\n"
     ]
    },
    {
     "output_type": "stream",
     "name": "stdout",
     "text": [
      "Data Dumped to predictions_combined.csv\n"
     ]
    }
   ],
   "metadata": {}
  },
  {
   "cell_type": "code",
   "execution_count": 44,
   "source": [
    "new_df.tail(2)"
   ],
   "outputs": [
    {
     "output_type": "execute_result",
     "data": {
      "text/plain": [
       "       store_id  market_id  delivery_id  subtotal  busy_or_not_busy  \\\n",
       "54776      2956        1.0       178028      1438          1.000000   \n",
       "54777      3630        1.0       132824      1433          0.763889   \n",
       "\n",
       "       estimated_store_to_consumer_driving_duration  LR_prediction  \\\n",
       "54776                                         593.0    2733.606530   \n",
       "54777                                         454.0    2733.764978   \n",
       "\n",
       "       RF_prediction  XGboost_prediction  delivery_diff_w_LR_pred  \\\n",
       "54776         3594.6         2929.788574              2140.606530   \n",
       "54777         2661.2         2182.768799              2279.764978   \n",
       "\n",
       "       delivery_diff_w_RF_pred  delivery_diff_w_XGB_pred  avg_variance  \n",
       "54776                   3001.6               2336.788574   2492.998368  \n",
       "54777                   2207.2               1728.768799   2071.911259  "
      ],
      "text/html": [
       "<div>\n",
       "<style scoped>\n",
       "    .dataframe tbody tr th:only-of-type {\n",
       "        vertical-align: middle;\n",
       "    }\n",
       "\n",
       "    .dataframe tbody tr th {\n",
       "        vertical-align: top;\n",
       "    }\n",
       "\n",
       "    .dataframe thead th {\n",
       "        text-align: right;\n",
       "    }\n",
       "</style>\n",
       "<table border=\"1\" class=\"dataframe\">\n",
       "  <thead>\n",
       "    <tr style=\"text-align: right;\">\n",
       "      <th></th>\n",
       "      <th>store_id</th>\n",
       "      <th>market_id</th>\n",
       "      <th>delivery_id</th>\n",
       "      <th>subtotal</th>\n",
       "      <th>busy_or_not_busy</th>\n",
       "      <th>estimated_store_to_consumer_driving_duration</th>\n",
       "      <th>LR_prediction</th>\n",
       "      <th>RF_prediction</th>\n",
       "      <th>XGboost_prediction</th>\n",
       "      <th>delivery_diff_w_LR_pred</th>\n",
       "      <th>delivery_diff_w_RF_pred</th>\n",
       "      <th>delivery_diff_w_XGB_pred</th>\n",
       "      <th>avg_variance</th>\n",
       "    </tr>\n",
       "  </thead>\n",
       "  <tbody>\n",
       "    <tr>\n",
       "      <th>54776</th>\n",
       "      <td>2956</td>\n",
       "      <td>1.0</td>\n",
       "      <td>178028</td>\n",
       "      <td>1438</td>\n",
       "      <td>1.000000</td>\n",
       "      <td>593.0</td>\n",
       "      <td>2733.606530</td>\n",
       "      <td>3594.6</td>\n",
       "      <td>2929.788574</td>\n",
       "      <td>2140.606530</td>\n",
       "      <td>3001.6</td>\n",
       "      <td>2336.788574</td>\n",
       "      <td>2492.998368</td>\n",
       "    </tr>\n",
       "    <tr>\n",
       "      <th>54777</th>\n",
       "      <td>3630</td>\n",
       "      <td>1.0</td>\n",
       "      <td>132824</td>\n",
       "      <td>1433</td>\n",
       "      <td>0.763889</td>\n",
       "      <td>454.0</td>\n",
       "      <td>2733.764978</td>\n",
       "      <td>2661.2</td>\n",
       "      <td>2182.768799</td>\n",
       "      <td>2279.764978</td>\n",
       "      <td>2207.2</td>\n",
       "      <td>1728.768799</td>\n",
       "      <td>2071.911259</td>\n",
       "    </tr>\n",
       "  </tbody>\n",
       "</table>\n",
       "</div>"
      ]
     },
     "metadata": {},
     "execution_count": 44
    }
   ],
   "metadata": {}
  },
  {
   "cell_type": "code",
   "execution_count": 38,
   "source": [
    "new_df['store_id'].nunique()"
   ],
   "outputs": [
    {
     "output_type": "execute_result",
     "data": {
      "text/plain": [
       "5676"
      ]
     },
     "metadata": {},
     "execution_count": 38
    }
   ],
   "metadata": {}
  },
  {
   "cell_type": "code",
   "execution_count": 70,
   "source": [
    "new_df.groupby('market_id')['subtotal'].sum().plot(kind='bar')"
   ],
   "outputs": [
    {
     "output_type": "execute_result",
     "data": {
      "text/plain": [
       "<AxesSubplot:xlabel='market_id'>"
      ]
     },
     "metadata": {},
     "execution_count": 70
    },
    {
     "output_type": "display_data",
     "data": {
      "text/plain": [
       "<Figure size 432x288 with 1 Axes>"
      ],
      "image/png": "[encoded data removed]"
     },
     "metadata": {
      "needs_background": "light"
     }
    }
   ],
   "metadata": {}
  },
  {
   "cell_type": "code",
   "execution_count": 82,
   "source": [
    "new_gp = new_df.groupby('market_id')\r\n",
    "\r\n",
    "for key, item in new_gp:\r\n",
    "    gp = pd.DataFrame(xxxx.get_group(key))\r\n",
    "    #print(gp.head(2))\r\n",
    "      "
   ],
   "outputs": [],
   "metadata": {}
  },
  {
   "cell_type": "code",
   "execution_count": 94,
   "source": [
    "\r\n",
    "sns.set_style(\"whitegrid\")\r\n",
    "plot = sns.violinplot(y ='subtotal', x ='store_id', data = new_df, hue=\"market_id\", palette=\"Set3\", height=10, aspect=20.7/10)\r\n",
    "\r\n",
    "fig = plot.get_figure()\r\n",
    "fig.savefig(\"violinplot_store_analysis_by_market.png\")"
   ],
   "outputs": [
    {
     "output_type": "display_data",
     "data": {
      "text/plain": [
       "<Figure size 432x288 with 1 Axes>"
      ],
      "image/png": "[encoded data removed]"
     },
     "metadata": {}
    }
   ],
   "metadata": {}
  },
  {
   "cell_type": "code",
   "execution_count": 92,
   "source": [
    "sns.set_style(\"whitegrid\")\r\n",
    "plot = sns.violinplot(y ='subtotal', x ='store_id', data = new_df,  palette=\"Set3\", linewidth = 5, height=10, aspect=20.7/10)\r\n",
    "\r\n",
    "fig = plot.get_figure()\r\n",
    "fig.savefig(\"store_analysis_violinplot.png\")"
   ],
   "outputs": [
    {
     "output_type": "display_data",
     "data": {
      "text/plain": [
       "<Figure size 432x288 with 1 Axes>"
      ],
      "image/png": "[encoded data removed]"
     },
     "metadata": {}
    }
   ],
   "metadata": {}
  },
  {
   "cell_type": "code",
   "execution_count": 104,
   "source": [
    "sns.set_style(\"whitegrid\")\r\n",
    "plot = sns.violinplot(y ='subtotal', x ='market_id', data = new_df,  palette=\"Set3\", linewidth = 5, height=10, aspect=20.7/10)\r\n",
    "\r\n",
    "fig = plot.get_figure()\r\n",
    "fig.savefig(\"market_analysis_violinplot.png\")"
   ],
   "outputs": [
    {
     "output_type": "display_data",
     "data": {
      "text/plain": [
       "<Figure size 432x288 with 1 Axes>"
      ],
      "image/png": "[encoded data removed]"
     },
     "metadata": {}
    }
   ],
   "metadata": {}
  },
  {
   "cell_type": "code",
   "execution_count": null,
   "source": [],
   "outputs": [],
   "metadata": {}
  }
 ],
 "metadata": {
  "interpreter": {
   "hash": "fd31efb221e3d5db7c81e55965fcb414ffb792619eee2b296b1a8df810ec9822"
  },
  "kernelspec": {
   "name": "python3",
   "display_name": "Python 3.7.7 64-bit ('myenv': conda)"
  },
  "language_info": {
   "name": "python",
   "version": "3.7.7",
   "mimetype": "text/x-python",
   "codemirror_mode": {
    "name": "ipython",
    "version": 3
   },
   "pygments_lexer": "ipython3",
   "nbconvert_exporter": "python",
   "file_extension": ".py"
  },
  "orig_nbformat": 4
 },
 "nbformat": 4,
 "nbformat_minor": 2
}