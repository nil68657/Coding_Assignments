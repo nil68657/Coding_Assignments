{
 "cells": [
  {
   "cell_type": "code",
   "execution_count": 3,
   "source": [
    "from auto_ml import Predictor\r\n",
    "from auto_ml.utils import get_boston_dataset\r\n",
    "from auto_ml.utils_models import load_ml_model\r\n",
    "\r\n",
    "# Load data\r\n",
    "df_train, df_test = get_boston_dataset()\r\n",
    "\r\n"
   ],
   "outputs": [
    {
     "output_type": "error",
     "ename": "ImportError",
     "evalue": "cannot import name 'six' from 'sklearn.externals' (C:\\Users\\nilan\\anaconda3\\envs\\myenv\\lib\\site-packages\\sklearn\\externals\\__init__.py)",
     "traceback": [
      "\u001b[1;31m---------------------------------------------------------------------------\u001b[0m",
      "\u001b[1;31mImportError\u001b[0m                               Traceback (most recent call last)",
      "\u001b[1;32m<ipython-input-3-d7010db47d13>\u001b[0m in \u001b[0;36m<module>\u001b[1;34m\u001b[0m\n\u001b[1;32m----> 1\u001b[1;33m \u001b[1;32mfrom\u001b[0m \u001b[0mauto_ml\u001b[0m \u001b[1;32mimport\u001b[0m \u001b[0mPredictor\u001b[0m\u001b[1;33m\u001b[0m\u001b[1;33m\u001b[0m\u001b[0m\n\u001b[0m\u001b[0;32m      2\u001b[0m \u001b[1;32mfrom\u001b[0m \u001b[0mauto_ml\u001b[0m\u001b[1;33m.\u001b[0m\u001b[0mutils\u001b[0m \u001b[1;32mimport\u001b[0m \u001b[0mget_boston_dataset\u001b[0m\u001b[1;33m\u001b[0m\u001b[1;33m\u001b[0m\u001b[0m\n\u001b[0;32m      3\u001b[0m \u001b[1;32mfrom\u001b[0m \u001b[0mauto_ml\u001b[0m\u001b[1;33m.\u001b[0m\u001b[0mutils_models\u001b[0m \u001b[1;32mimport\u001b[0m \u001b[0mload_ml_model\u001b[0m\u001b[1;33m\u001b[0m\u001b[1;33m\u001b[0m\u001b[0m\n\u001b[0;32m      4\u001b[0m \u001b[1;33m\u001b[0m\u001b[0m\n\u001b[0;32m      5\u001b[0m \u001b[1;31m# Load data\u001b[0m\u001b[1;33m\u001b[0m\u001b[1;33m\u001b[0m\u001b[1;33m\u001b[0m\u001b[0m\n",
      "\u001b[1;32m~\\anaconda3\\envs\\myenv\\lib\\site-packages\\auto_ml\\__init__.py\u001b[0m in \u001b[0;36m<module>\u001b[1;34m\u001b[0m\n\u001b[1;32m----> 1\u001b[1;33m \u001b[1;32mfrom\u001b[0m \u001b[0mauto_ml\u001b[0m\u001b[1;33m.\u001b[0m\u001b[0mpredictor\u001b[0m \u001b[1;32mimport\u001b[0m \u001b[0mPredictor\u001b[0m\u001b[1;33m\u001b[0m\u001b[1;33m\u001b[0m\u001b[0m\n\u001b[0m\u001b[0;32m      2\u001b[0m \u001b[1;32mfrom\u001b[0m \u001b[0mauto_ml\u001b[0m\u001b[1;33m.\u001b[0m\u001b[0m_version\u001b[0m \u001b[1;32mimport\u001b[0m \u001b[0m__version__\u001b[0m\u001b[1;33m\u001b[0m\u001b[1;33m\u001b[0m\u001b[0m\n\u001b[0;32m      3\u001b[0m \u001b[1;32mfrom\u001b[0m \u001b[0mauto_ml\u001b[0m\u001b[1;33m.\u001b[0m\u001b[0mutils_models\u001b[0m \u001b[1;32mimport\u001b[0m \u001b[0mload_ml_model\u001b[0m\u001b[1;33m\u001b[0m\u001b[1;33m\u001b[0m\u001b[0m\n",
      "\u001b[1;32m~\\anaconda3\\envs\\myenv\\lib\\site-packages\\auto_ml\\predictor.py\u001b[0m in \u001b[0;36m<module>\u001b[1;34m\u001b[0m\n\u001b[0;32m     32\u001b[0m \u001b[1;33m\u001b[0m\u001b[0m\n\u001b[0;32m     33\u001b[0m \u001b[1;32mfrom\u001b[0m \u001b[0mauto_ml\u001b[0m\u001b[1;33m.\u001b[0m\u001b[0m_version\u001b[0m \u001b[1;32mimport\u001b[0m \u001b[0m__version__\u001b[0m \u001b[1;32mas\u001b[0m \u001b[0mauto_ml_version\u001b[0m\u001b[1;33m\u001b[0m\u001b[1;33m\u001b[0m\u001b[0m\n\u001b[1;32m---> 34\u001b[1;33m \u001b[1;32mfrom\u001b[0m \u001b[0mauto_ml\u001b[0m \u001b[1;32mimport\u001b[0m \u001b[0mDataFrameVectorizer\u001b[0m\u001b[1;33m\u001b[0m\u001b[1;33m\u001b[0m\u001b[0m\n\u001b[0m\u001b[0;32m     35\u001b[0m \u001b[1;32mfrom\u001b[0m \u001b[0mauto_ml\u001b[0m \u001b[1;32mimport\u001b[0m \u001b[0mutils\u001b[0m\u001b[1;33m\u001b[0m\u001b[1;33m\u001b[0m\u001b[0m\n\u001b[0;32m     36\u001b[0m \u001b[1;32mfrom\u001b[0m \u001b[0mauto_ml\u001b[0m \u001b[1;32mimport\u001b[0m \u001b[0mutils_categorical_ensembling\u001b[0m\u001b[1;33m\u001b[0m\u001b[1;33m\u001b[0m\u001b[0m\n",
      "\u001b[1;32m~\\anaconda3\\envs\\myenv\\lib\\site-packages\\auto_ml\\DataFrameVectorizer.py\u001b[0m in \u001b[0;36m<module>\u001b[1;34m\u001b[0m\n\u001b[0;32m      8\u001b[0m \u001b[1;32mimport\u001b[0m \u001b[0mscipy\u001b[0m\u001b[1;33m.\u001b[0m\u001b[0msparse\u001b[0m \u001b[1;32mas\u001b[0m \u001b[0msp\u001b[0m\u001b[1;33m\u001b[0m\u001b[1;33m\u001b[0m\u001b[0m\n\u001b[0;32m      9\u001b[0m \u001b[1;32mfrom\u001b[0m \u001b[0msklearn\u001b[0m\u001b[1;33m.\u001b[0m\u001b[0mbase\u001b[0m \u001b[1;32mimport\u001b[0m \u001b[0mBaseEstimator\u001b[0m\u001b[1;33m,\u001b[0m \u001b[0mTransformerMixin\u001b[0m\u001b[1;33m\u001b[0m\u001b[1;33m\u001b[0m\u001b[0m\n\u001b[1;32m---> 10\u001b[1;33m \u001b[1;32mfrom\u001b[0m \u001b[0msklearn\u001b[0m\u001b[1;33m.\u001b[0m\u001b[0mexternals\u001b[0m \u001b[1;32mimport\u001b[0m \u001b[0msix\u001b[0m\u001b[1;33m\u001b[0m\u001b[1;33m\u001b[0m\u001b[0m\n\u001b[0m\u001b[0;32m     11\u001b[0m \u001b[1;33m\u001b[0m\u001b[0m\n\u001b[0;32m     12\u001b[0m \u001b[1;32mfrom\u001b[0m \u001b[0mauto_ml\u001b[0m\u001b[1;33m.\u001b[0m\u001b[0mutils\u001b[0m \u001b[1;32mimport\u001b[0m \u001b[0mCustomLabelEncoder\u001b[0m\u001b[1;33m\u001b[0m\u001b[1;33m\u001b[0m\u001b[0m\n",
      "\u001b[1;31mImportError\u001b[0m: cannot import name 'six' from 'sklearn.externals' (C:\\Users\\nilan\\anaconda3\\envs\\myenv\\lib\\site-packages\\sklearn\\externals\\__init__.py)"
     ]
    }
   ],
   "metadata": {}
  },
  {
   "cell_type": "code",
   "execution_count": null,
   "source": [
    "# Tell auto_ml which column is 'output'\r\n",
    "# Also note columns that aren't purely numerical\r\n",
    "# Examples include ['nlp', 'date', 'categorical', 'ignore']\r\n",
    "column_descriptions = {\r\n",
    "  'MEDV': 'output'\r\n",
    "  , 'CHAS': 'categorical'\r\n",
    "}\r\n",
    "\r\n",
    "ml_predictor = Predictor(type_of_estimator='regressor', column_descriptions=column_descriptions)\r\n",
    "\r\n",
    "ml_predictor.train(df_train)\r\n",
    "\r\n",
    "# Score the model on test data\r\n",
    "test_score = ml_predictor.score(df_test, df_test.MEDV)\r\n",
    "\r\n",
    "# auto_ml is specifically tuned for running in production\r\n",
    "# It can get predictions on an individual row (passed in as a dictionary)\r\n",
    "# A single prediction like this takes ~1 millisecond\r\n",
    "# Here we will demonstrate saving the trained model, and loading it again\r\n",
    "file_name = ml_predictor.save()\r\n",
    "\r\n",
    "trained_model = load_ml_model(file_name)\r\n",
    "\r\n",
    "# .predict and .predict_proba take in either:\r\n",
    "# A pandas DataFrame\r\n",
    "# A list of dictionaries\r\n",
    "# A single dictionary (optimized for speed in production evironments)\r\n",
    "predictions = trained_model.predict(df_test)\r\n",
    "print(predictions)"
   ],
   "outputs": [],
   "metadata": {}
  }
 ],
 "metadata": {
  "orig_nbformat": 4,
  "language_info": {
   "name": "python",
   "version": "3.7.7",
   "mimetype": "text/x-python",
   "codemirror_mode": {
    "name": "ipython",
    "version": 3
   },
   "pygments_lexer": "ipython3",
   "nbconvert_exporter": "python",
   "file_extension": ".py"
  },
  "kernelspec": {
   "name": "python3",
   "display_name": "Python 3.7.7 64-bit ('myenv': conda)"
  },
  "interpreter": {
   "hash": "fd31efb221e3d5db7c81e55965fcb414ffb792619eee2b296b1a8df810ec9822"
  }
 },
 "nbformat": 4,
 "nbformat_minor": 2
}